{
  "nbformat": 4,
  "nbformat_minor": 0,
  "metadata": {
    "colab": {
      "name": "Copy of Assignment-Climate-Findel.ipynb",
      "provenance": [],
      "collapsed_sections": [],
      "include_colab_link": true
    },
    "kernelspec": {
      "name": "python3",
      "display_name": "Python 3"
    },
    "language_info": {
      "name": "python"
    }
  },
  "cells": [
    {
      "cell_type": "markdown",
      "metadata": {
        "id": "view-in-github",
        "colab_type": "text"
      },
      "source": [
        "<a href=\"https://colab.research.google.com/github/Rukhsarahmed1/rstudio2/blob/main/Copy_of_Assignment_Climate_Findel.ipynb\" target=\"_parent\"><img src=\"https://colab.research.google.com/assets/colab-badge.svg\" alt=\"Open In Colab\"/></a>"
      ]
    },
    {
      "cell_type": "markdown",
      "metadata": {
        "id": "5Gya-mwxqgp7"
      },
      "source": [
        "## Get familiar with the data"
      ]
    },
    {
      "cell_type": "markdown",
      "metadata": {
        "id": "Du2hpuy5qNxU"
      },
      "source": [
        "Climate normals are arithmetic averages of measured or observed meteorological elements. The general recommendation of the World Meteorological Organisation (WMO) is to use 30-year periods of reference. The current climatological standard normal period is 1991–2020. These long-term averages are used to describe the climate of an area. They are also used to compare the actual weather conditions occurring in a region with the average expected climate. This international coordination and standardisation enables comparisons of climate and climatological reports across national boundaries. \n",
        "\n",
        "Parameter description:\n",
        "\n",
        "    NM_T (°C): MEAN AIR TEMPERATURE AT 2 M\n",
        "    NM_XT (°C): MEAN DAILY MAXIMUM AIR TEMPERATURE AT 2 M\n",
        "    NM_NT (°C): MEAN DAILY MINIMUM AIR TEMPERATURE AT 2 M\n",
        "    NM_RR06_06 (mm): AMOUNT OF PRECIPITATION 05:46 UTC (M, D) TO 05:45 UTC (M+1, D+1)\n",
        "    NM_INS (hours): SUNSHINE DURATION\n",
        "    NM_U (%): MEAN RELATIVE HUMIDITY AT 2 M\n",
        "    NM_QFF (hPa): MEAN ATMOSPHERIC AIR PRESSURE REDUCED TO MEAN-SEA LEVEL\n",
        "    NM_ODRR01 (days): MEAN NUMBER OF DAYS WITH PRECIPITATION GREATER EQUAL 0.1 MM\n",
        "    NM_OFOG (days): MEAN NUMBER OF DAYS WITH FOG\n",
        "    NM_OCASETHSTORM (cases): MEAN NUMBER OF CASES WITH OCCURRENCE OF THUNDERSTORM\n",
        "    NM_OGLAZE (days): MEAN NUMBER OF DAYS WITH FREEZING PRECIPITATION\n",
        "    NM_OSNOW (days): MEAN NUMBER OF DAYS WITH SNOWFALL\n",
        "    NM_OGROUNDSNOW (days): MEAN NUMBER OF DAYS WITH SNOW COVER ON THE GROUND\n",
        "    NM_ODXT25 (days): MEAN NUMBER OF SUMMER DAYS (= MAXIMUM TEMPERATURE GREATER EQUAL 25 °C)\n",
        "    NM_ODXT30 (days): MEAN NUMBER OF HOT DAYS (= MAXIMUM TEMPERATURE GREATER EQUAL 30 °C)\n",
        "    NM_ODNT0 (days): MEAN NUMBER OF FROST DAYS (= MINIMUM TEMPERATURE SMALLER THAN 0 °C)\n",
        "    NM_0DXT0 (days): MEAN NUMBER OF ICE DAYS (= MAXIMUM TEMPERATURE SMALLER THAN 0 °C)\n"
      ]
    },
    {
      "cell_type": "markdown",
      "metadata": {
        "id": "tBDu2pd2vAQH"
      },
      "source": [
        "File format: CSV file sep=;\n",
        "Resources\n",
        "* 06590-climate-normals-luxfindel-1991-2020.csv\n",
        "* 06590-climate-normals-luxfindel-1981-2010.csv\n",
        "\n"
      ]
    },
    {
      "cell_type": "markdown",
      "metadata": {
        "id": "9USrI9IXqcUy"
      },
      "source": [
        "## Load data and print head"
      ]
    },
    {
      "cell_type": "code",
      "metadata": {
        "id": "rmgdM2UamDGC"
      },
      "source": [
        "import pandas as pd\n",
        "df_91_20=pd.read_csv('https://data.public.lu/fr/datasets/r/850ca2c2-88c5-4518-bf57-3fec2008821d',delimiter=\";\", encoding = \"ISO-8859-1\")\n",
        "df_81_10=pd.read_csv('https://data.public.lu/fr/datasets/r/4f4c8a32-84bf-4098-95eb-696e7e4ba3ec',delimiter=\";\", encoding = \"ISO-8859-1\")"
      ],
      "execution_count": null,
      "outputs": []
    },
    {
      "cell_type": "code",
      "metadata": {
        "colab": {
          "base_uri": "https://localhost:8080/",
          "height": 206
        },
        "id": "LTYSXfuYquW8",
        "outputId": "77636f09-11cb-478e-c3b5-1a30a73dcbca"
      },
      "source": [
        "df_91_20.head()"
      ],
      "execution_count": null,
      "outputs": [
        {
          "output_type": "execute_result",
          "data": {
            "text/html": [
              "<div>\n",
              "<style scoped>\n",
              "    .dataframe tbody tr th:only-of-type {\n",
              "        vertical-align: middle;\n",
              "    }\n",
              "\n",
              "    .dataframe tbody tr th {\n",
              "        vertical-align: top;\n",
              "    }\n",
              "\n",
              "    .dataframe thead th {\n",
              "        text-align: right;\n",
              "    }\n",
              "</style>\n",
              "<table border=\"1\" class=\"dataframe\">\n",
              "  <thead>\n",
              "    <tr style=\"text-align: right;\">\n",
              "      <th></th>\n",
              "      <th>MONTH</th>\n",
              "      <th>JAN</th>\n",
              "      <th>FEB</th>\n",
              "      <th>MAR</th>\n",
              "      <th>APR</th>\n",
              "      <th>MAY</th>\n",
              "      <th>JUN</th>\n",
              "      <th>JUL</th>\n",
              "      <th>AUG</th>\n",
              "      <th>SEP</th>\n",
              "      <th>OCT</th>\n",
              "      <th>NOV</th>\n",
              "      <th>DEC</th>\n",
              "    </tr>\n",
              "  </thead>\n",
              "  <tbody>\n",
              "    <tr>\n",
              "      <th>0</th>\n",
              "      <td>NM_T (°C)</td>\n",
              "      <td>1.4</td>\n",
              "      <td>2.2</td>\n",
              "      <td>5.7</td>\n",
              "      <td>9.6</td>\n",
              "      <td>13.5</td>\n",
              "      <td>16.7</td>\n",
              "      <td>18.7</td>\n",
              "      <td>18.4</td>\n",
              "      <td>14.3</td>\n",
              "      <td>9.9</td>\n",
              "      <td>5.2</td>\n",
              "      <td>2.3</td>\n",
              "    </tr>\n",
              "    <tr>\n",
              "      <th>1</th>\n",
              "      <td>NM_XT (°C)</td>\n",
              "      <td>3.8</td>\n",
              "      <td>5.2</td>\n",
              "      <td>9.8</td>\n",
              "      <td>14.4</td>\n",
              "      <td>18.4</td>\n",
              "      <td>21.7</td>\n",
              "      <td>23.9</td>\n",
              "      <td>23.5</td>\n",
              "      <td>19.0</td>\n",
              "      <td>13.5</td>\n",
              "      <td>7.7</td>\n",
              "      <td>4.5</td>\n",
              "    </tr>\n",
              "    <tr>\n",
              "      <th>2</th>\n",
              "      <td>NM_NT (°C)</td>\n",
              "      <td>-1.0</td>\n",
              "      <td>-0.7</td>\n",
              "      <td>2.0</td>\n",
              "      <td>5.1</td>\n",
              "      <td>8.7</td>\n",
              "      <td>11.8</td>\n",
              "      <td>13.8</td>\n",
              "      <td>13.6</td>\n",
              "      <td>10.3</td>\n",
              "      <td>6.6</td>\n",
              "      <td>2.8</td>\n",
              "      <td>0.0</td>\n",
              "    </tr>\n",
              "    <tr>\n",
              "      <th>3</th>\n",
              "      <td>NM_RR06_06 (mm)</td>\n",
              "      <td>71.5</td>\n",
              "      <td>59.5</td>\n",
              "      <td>56.6</td>\n",
              "      <td>49.4</td>\n",
              "      <td>73.3</td>\n",
              "      <td>73.0</td>\n",
              "      <td>72.1</td>\n",
              "      <td>71.9</td>\n",
              "      <td>66.6</td>\n",
              "      <td>76.2</td>\n",
              "      <td>71.7</td>\n",
              "      <td>89.5</td>\n",
              "    </tr>\n",
              "    <tr>\n",
              "      <th>4</th>\n",
              "      <td>NM_INS (hours)</td>\n",
              "      <td>52.0</td>\n",
              "      <td>79.5</td>\n",
              "      <td>137.1</td>\n",
              "      <td>197.5</td>\n",
              "      <td>226.3</td>\n",
              "      <td>241.2</td>\n",
              "      <td>257.6</td>\n",
              "      <td>237.1</td>\n",
              "      <td>174.9</td>\n",
              "      <td>106.7</td>\n",
              "      <td>51.1</td>\n",
              "      <td>41.9</td>\n",
              "    </tr>\n",
              "  </tbody>\n",
              "</table>\n",
              "</div>"
            ],
            "text/plain": [
              "             MONTH   JAN   FEB    MAR    APR  ...    AUG    SEP    OCT   NOV   DEC\n",
              "0        NM_T (°C)   1.4   2.2    5.7    9.6  ...   18.4   14.3    9.9   5.2   2.3\n",
              "1       NM_XT (°C)   3.8   5.2    9.8   14.4  ...   23.5   19.0   13.5   7.7   4.5\n",
              "2       NM_NT (°C)  -1.0  -0.7    2.0    5.1  ...   13.6   10.3    6.6   2.8   0.0\n",
              "3  NM_RR06_06 (mm)  71.5  59.5   56.6   49.4  ...   71.9   66.6   76.2  71.7  89.5\n",
              "4   NM_INS (hours)  52.0  79.5  137.1  197.5  ...  237.1  174.9  106.7  51.1  41.9\n",
              "\n",
              "[5 rows x 13 columns]"
            ]
          },
          "metadata": {},
          "execution_count": 2
        }
      ]
    },
    {
      "cell_type": "code",
      "metadata": {
        "colab": {
          "base_uri": "https://localhost:8080/",
          "height": 206
        },
        "id": "YahaoLuAq8nt",
        "outputId": "07d48457-d7ca-45c9-addd-7019909f812c"
      },
      "source": [
        "df_81_10.head()"
      ],
      "execution_count": null,
      "outputs": [
        {
          "output_type": "execute_result",
          "data": {
            "text/html": [
              "<div>\n",
              "<style scoped>\n",
              "    .dataframe tbody tr th:only-of-type {\n",
              "        vertical-align: middle;\n",
              "    }\n",
              "\n",
              "    .dataframe tbody tr th {\n",
              "        vertical-align: top;\n",
              "    }\n",
              "\n",
              "    .dataframe thead th {\n",
              "        text-align: right;\n",
              "    }\n",
              "</style>\n",
              "<table border=\"1\" class=\"dataframe\">\n",
              "  <thead>\n",
              "    <tr style=\"text-align: right;\">\n",
              "      <th></th>\n",
              "      <th>MONTH</th>\n",
              "      <th>JAN</th>\n",
              "      <th>FEB</th>\n",
              "      <th>MAR</th>\n",
              "      <th>APR</th>\n",
              "      <th>MAY</th>\n",
              "      <th>JUN</th>\n",
              "      <th>JUL</th>\n",
              "      <th>AUG</th>\n",
              "      <th>SEP</th>\n",
              "      <th>OCT</th>\n",
              "      <th>NOV</th>\n",
              "      <th>DEC</th>\n",
              "    </tr>\n",
              "  </thead>\n",
              "  <tbody>\n",
              "    <tr>\n",
              "      <th>0</th>\n",
              "      <td>NM_T (°C)</td>\n",
              "      <td>0.8</td>\n",
              "      <td>1.6</td>\n",
              "      <td>5.2</td>\n",
              "      <td>8.7</td>\n",
              "      <td>13.0</td>\n",
              "      <td>15.9</td>\n",
              "      <td>18.2</td>\n",
              "      <td>17.7</td>\n",
              "      <td>13.9</td>\n",
              "      <td>9.5</td>\n",
              "      <td>4.7</td>\n",
              "      <td>1.8</td>\n",
              "    </tr>\n",
              "    <tr>\n",
              "      <th>1</th>\n",
              "      <td>NM_XT (°C)</td>\n",
              "      <td>3.1</td>\n",
              "      <td>4.7</td>\n",
              "      <td>9.1</td>\n",
              "      <td>13.3</td>\n",
              "      <td>17.8</td>\n",
              "      <td>20.7</td>\n",
              "      <td>23.3</td>\n",
              "      <td>22.8</td>\n",
              "      <td>18.4</td>\n",
              "      <td>13.1</td>\n",
              "      <td>7.3</td>\n",
              "      <td>3.9</td>\n",
              "    </tr>\n",
              "    <tr>\n",
              "      <th>2</th>\n",
              "      <td>NM_NT (°C)</td>\n",
              "      <td>-1.6</td>\n",
              "      <td>-1.3</td>\n",
              "      <td>1.6</td>\n",
              "      <td>4.4</td>\n",
              "      <td>8.4</td>\n",
              "      <td>11.1</td>\n",
              "      <td>13.3</td>\n",
              "      <td>13.0</td>\n",
              "      <td>10.0</td>\n",
              "      <td>6.3</td>\n",
              "      <td>2.2</td>\n",
              "      <td>-0.5</td>\n",
              "    </tr>\n",
              "    <tr>\n",
              "      <th>3</th>\n",
              "      <td>NM_RR06_06 (mm)</td>\n",
              "      <td>76.6</td>\n",
              "      <td>62.5</td>\n",
              "      <td>69.1</td>\n",
              "      <td>58.2</td>\n",
              "      <td>78.5</td>\n",
              "      <td>79.9</td>\n",
              "      <td>71.0</td>\n",
              "      <td>75.4</td>\n",
              "      <td>76.3</td>\n",
              "      <td>86.8</td>\n",
              "      <td>76.0</td>\n",
              "      <td>86.7</td>\n",
              "    </tr>\n",
              "    <tr>\n",
              "      <th>4</th>\n",
              "      <td>NM_INS (hours)</td>\n",
              "      <td>50.3</td>\n",
              "      <td>83.6</td>\n",
              "      <td>125.1</td>\n",
              "      <td>181.6</td>\n",
              "      <td>213.4</td>\n",
              "      <td>227.0</td>\n",
              "      <td>250.3</td>\n",
              "      <td>230.8</td>\n",
              "      <td>161.9</td>\n",
              "      <td>105.9</td>\n",
              "      <td>54.2</td>\n",
              "      <td>41.0</td>\n",
              "    </tr>\n",
              "  </tbody>\n",
              "</table>\n",
              "</div>"
            ],
            "text/plain": [
              "             MONTH   JAN   FEB    MAR    APR  ...    AUG    SEP    OCT   NOV   DEC\n",
              "0        NM_T (°C)   0.8   1.6    5.2    8.7  ...   17.7   13.9    9.5   4.7   1.8\n",
              "1       NM_XT (°C)   3.1   4.7    9.1   13.3  ...   22.8   18.4   13.1   7.3   3.9\n",
              "2       NM_NT (°C)  -1.6  -1.3    1.6    4.4  ...   13.0   10.0    6.3   2.2  -0.5\n",
              "3  NM_RR06_06 (mm)  76.6  62.5   69.1   58.2  ...   75.4   76.3   86.8  76.0  86.7\n",
              "4   NM_INS (hours)  50.3  83.6  125.1  181.6  ...  230.8  161.9  105.9  54.2  41.0\n",
              "\n",
              "[5 rows x 13 columns]"
            ]
          },
          "metadata": {},
          "execution_count": 3
        }
      ]
    },
    {
      "cell_type": "markdown",
      "metadata": {
        "id": "23GE6ktWrLi6"
      },
      "source": [
        "## For both the dataframes, rename the column \"MONTH\" to \"Parameters\" and make it the index"
      ]
    },
    {
      "cell_type": "markdown",
      "metadata": {
        "id": "ahbwH7yVOzRV"
      },
      "source": [
        "\n",
        "\n",
        "```\n",
        "df_91_20 = df_91_20.rename(columns={'MONTH': 'Parameters'}) # or inplace = True\n",
        "df_91_20 = df_91_20.set_index('Parameters')\n",
        "df_81_10 = df_81_10.rename(columns={'MONTH': 'Parameters'})\n",
        "df_81_10 = df_81_10.set_index('Parameters')\n",
        "```\n",
        "\n"
      ]
    },
    {
      "cell_type": "markdown",
      "metadata": {
        "id": "7LDDhFyNPaoe"
      },
      "source": [
        "* Repeatitive task -> Function\n",
        "* Can we use data-structure?\n",
        "* Future ready?"
      ]
    },
    {
      "cell_type": "code",
      "metadata": {
        "id": "bLJ0a343-AWV"
      },
      "source": [
        "def rename_index (df_in,old_name, new_name):\n",
        "  return(df_in.rename(columns={old_name: new_name}).set_index(new_name, drop=True))\n",
        "\n",
        "dict_findel_df= {'91_20': df_91_20,\n",
        "               '81_10': df_81_10}\n",
        "\n",
        "dict_findel_df_ri={}\n",
        "for each_df in dict_findel_df:\n",
        "  dict_findel_df_ri[each_df] = rename_index(dict_findel_df[each_df],'MONTH','Parameters')\n"
      ],
      "execution_count": null,
      "outputs": []
    },
    {
      "cell_type": "markdown",
      "metadata": {
        "id": "VfET2Jd9rrZ3"
      },
      "source": [
        "## Check the datatypes of each column and change non-numeric columns to numeric"
      ]
    },
    {
      "cell_type": "code",
      "metadata": {
        "id": "w9mPbjc68U75",
        "colab": {
          "base_uri": "https://localhost:8080/",
          "height": 1000
        },
        "outputId": "6f13fcc9-8553-4730-842e-a6b6a53f8fe7"
      },
      "source": [
        "for each_df in dict_findel_df_ri:\n",
        "  print(each_df, \"\\n\", dict_findel_df_ri[each_df].dtypes)\n",
        "  #dict_findel_df_ri[each_df] = dict_findel_df_ri[each_df].apply(pd.to_numeric, errors='coerce', axis=1).fillna(0.1)\n",
        "dict_findel_df_ri['81_10'][['OCT','NOV']]"
      ],
      "execution_count": null,
      "outputs": [
        {
          "output_type": "stream",
          "name": "stdout",
          "text": [
            "91_20 \n",
            " JAN    float64\n",
            "FEB    float64\n",
            "MAR    float64\n",
            "APR    float64\n",
            "MAY    float64\n",
            "JUN    float64\n",
            "JUL    float64\n",
            "AUG    float64\n",
            "SEP    float64\n",
            "OCT    float64\n",
            "NOV    float64\n",
            "DEC    float64\n",
            "dtype: object\n",
            "81_10 \n",
            " JAN    float64\n",
            "FEB    float64\n",
            "MAR    float64\n",
            "APR    float64\n",
            "MAY    float64\n",
            "JUN    float64\n",
            "JUL    float64\n",
            "AUG    float64\n",
            "SEP    float64\n",
            "OCT     object\n",
            "NOV     object\n",
            "DEC    float64\n",
            "dtype: object\n"
          ]
        },
        {
          "output_type": "execute_result",
          "data": {
            "text/html": [
              "<div>\n",
              "<style scoped>\n",
              "    .dataframe tbody tr th:only-of-type {\n",
              "        vertical-align: middle;\n",
              "    }\n",
              "\n",
              "    .dataframe tbody tr th {\n",
              "        vertical-align: top;\n",
              "    }\n",
              "\n",
              "    .dataframe thead th {\n",
              "        text-align: right;\n",
              "    }\n",
              "</style>\n",
              "<table border=\"1\" class=\"dataframe\">\n",
              "  <thead>\n",
              "    <tr style=\"text-align: right;\">\n",
              "      <th></th>\n",
              "      <th>OCT</th>\n",
              "      <th>NOV</th>\n",
              "    </tr>\n",
              "    <tr>\n",
              "      <th>Parameters</th>\n",
              "      <th></th>\n",
              "      <th></th>\n",
              "    </tr>\n",
              "  </thead>\n",
              "  <tbody>\n",
              "    <tr>\n",
              "      <th>NM_T (°C)</th>\n",
              "      <td>9.5</td>\n",
              "      <td>4.7</td>\n",
              "    </tr>\n",
              "    <tr>\n",
              "      <th>NM_XT (°C)</th>\n",
              "      <td>13.1</td>\n",
              "      <td>7.3</td>\n",
              "    </tr>\n",
              "    <tr>\n",
              "      <th>NM_NT (°C)</th>\n",
              "      <td>6.3</td>\n",
              "      <td>2.2</td>\n",
              "    </tr>\n",
              "    <tr>\n",
              "      <th>NM_RR06_06 (mm)</th>\n",
              "      <td>86.8</td>\n",
              "      <td>76.0</td>\n",
              "    </tr>\n",
              "    <tr>\n",
              "      <th>NM_INS (hours)</th>\n",
              "      <td>105.9</td>\n",
              "      <td>54.2</td>\n",
              "    </tr>\n",
              "    <tr>\n",
              "      <th>NM_U (%)</th>\n",
              "      <td>83</td>\n",
              "      <td>88</td>\n",
              "    </tr>\n",
              "    <tr>\n",
              "      <th>NM_QFF (hPa)</th>\n",
              "      <td>1016.5</td>\n",
              "      <td>1016.4</td>\n",
              "    </tr>\n",
              "    <tr>\n",
              "      <th>NM_ODRR01 (days)</th>\n",
              "      <td>15.4</td>\n",
              "      <td>17.2</td>\n",
              "    </tr>\n",
              "    <tr>\n",
              "      <th>NM_OFOG (days)</th>\n",
              "      <td>9.1</td>\n",
              "      <td>11.3</td>\n",
              "    </tr>\n",
              "    <tr>\n",
              "      <th>NM_OCASETHSTORM (days)</th>\n",
              "      <td>1.1</td>\n",
              "      <td>&lt;0.1</td>\n",
              "    </tr>\n",
              "    <tr>\n",
              "      <th>NM_OGLAZE (days)</th>\n",
              "      <td>0</td>\n",
              "      <td>0.2</td>\n",
              "    </tr>\n",
              "    <tr>\n",
              "      <th>NM_OSNOW (days)</th>\n",
              "      <td>&lt;0.1</td>\n",
              "      <td>2.8</td>\n",
              "    </tr>\n",
              "    <tr>\n",
              "      <th>NM_OGROUNDSNOW (days)</th>\n",
              "      <td>0</td>\n",
              "      <td>2.1</td>\n",
              "    </tr>\n",
              "    <tr>\n",
              "      <th>NM_ODXT25 (days)</th>\n",
              "      <td>0</td>\n",
              "      <td>0</td>\n",
              "    </tr>\n",
              "    <tr>\n",
              "      <th>NM_ODXT30 (days)</th>\n",
              "      <td>0</td>\n",
              "      <td>0</td>\n",
              "    </tr>\n",
              "    <tr>\n",
              "      <th>NM_ODNT0 (days)</th>\n",
              "      <td>1.4</td>\n",
              "      <td>8.5</td>\n",
              "    </tr>\n",
              "    <tr>\n",
              "      <th>NM_ODXT0 (days)</th>\n",
              "      <td>0</td>\n",
              "      <td>1.3</td>\n",
              "    </tr>\n",
              "  </tbody>\n",
              "</table>\n",
              "</div>"
            ],
            "text/plain": [
              "                           OCT     NOV\n",
              "Parameters                            \n",
              "NM_T (°C)                  9.5     4.7\n",
              "NM_XT (°C)                13.1     7.3\n",
              "NM_NT (°C)                 6.3     2.2\n",
              "NM_RR06_06 (mm)           86.8    76.0\n",
              "NM_INS (hours)           105.9    54.2\n",
              "NM_U (%)                    83      88\n",
              "NM_QFF (hPa)            1016.5  1016.4\n",
              "NM_ODRR01 (days)          15.4    17.2\n",
              "NM_OFOG (days)             9.1    11.3\n",
              "NM_OCASETHSTORM (days)     1.1    <0.1\n",
              "NM_OGLAZE (days)             0     0.2\n",
              "NM_OSNOW (days)           <0.1     2.8\n",
              "NM_OGROUNDSNOW (days)        0     2.1\n",
              "NM_ODXT25 (days)             0       0\n",
              "NM_ODXT30 (days)             0       0\n",
              "NM_ODNT0 (days)            1.4     8.5\n",
              "NM_ODXT0 (days)              0     1.3"
            ]
          },
          "metadata": {},
          "execution_count": 12
        }
      ]
    },
    {
      "cell_type": "code",
      "metadata": {
        "colab": {
          "base_uri": "https://localhost:8080/"
        },
        "id": "0rquTC3aqoRZ",
        "outputId": "c5a1741f-d980-49a5-a70e-01b314b5f5e4"
      },
      "source": [
        "for each_df in dict_findel_df_ri:\n",
        "  print(dict_findel_df_ri[each_df].dtypes)"
      ],
      "execution_count": null,
      "outputs": [
        {
          "output_type": "stream",
          "name": "stdout",
          "text": [
            "JAN    float64\n",
            "FEB    float64\n",
            "MAR    float64\n",
            "APR    float64\n",
            "MAY    float64\n",
            "JUN    float64\n",
            "JUL    float64\n",
            "AUG    float64\n",
            "SEP    float64\n",
            "OCT    float64\n",
            "NOV    float64\n",
            "DEC    float64\n",
            "dtype: object\n",
            "JAN    float64\n",
            "FEB    float64\n",
            "MAR    float64\n",
            "APR    float64\n",
            "MAY    float64\n",
            "JUN    float64\n",
            "JUL    float64\n",
            "AUG    float64\n",
            "SEP    float64\n",
            "OCT    float64\n",
            "NOV    float64\n",
            "DEC    float64\n",
            "dtype: object\n"
          ]
        }
      ]
    },
    {
      "cell_type": "markdown",
      "metadata": {
        "id": "MFpfBWSAtTN-"
      },
      "source": [
        "## Line-plot temperatures (in a single chart) and bar-plot humidity parameters "
      ]
    },
    {
      "cell_type": "code",
      "metadata": {
        "colab": {
          "base_uri": "https://localhost:8080/",
          "height": 299
        },
        "id": "o3x-P42mV4aJ",
        "outputId": "db5e3c4d-5157-4179-d73e-3ed36470675a"
      },
      "source": [
        "list_temp = [\"NM_T (°C)\", \"NM_XT (°C)\", \"NM_NT (°C)\"]\n",
        "dict_findel_df_ri['81_10'].loc[list_temp,:].T.plot(title = 'Temp 81_10')"
      ],
      "execution_count": null,
      "outputs": [
        {
          "output_type": "execute_result",
          "data": {
            "text/plain": [
              "<matplotlib.axes._subplots.AxesSubplot at 0x7f9ff8829a90>"
            ]
          },
          "metadata": {},
          "execution_count": 7
        },
        {
          "output_type": "display_data",
          "data": {
            "image/png": "[encoded data removed]",
            "text/plain": [
              "<Figure size 432x288 with 1 Axes>"
            ]
          },
          "metadata": {
            "needs_background": "light"
          }
        }
      ]
    },
    {
      "cell_type": "code",
      "metadata": {
        "colab": {
          "base_uri": "https://localhost:8080/",
          "height": 299
        },
        "id": "MPtoYn3ZWM5g",
        "outputId": "3a1a2a9a-8337-454a-edbf-e23ee11f3536"
      },
      "source": [
        "dict_findel_df_ri['91_20'].loc[list_temp,:].T.plot(title = 'Temp 91_20')"
      ],
      "execution_count": null,
      "outputs": [
        {
          "output_type": "execute_result",
          "data": {
            "text/plain": [
              "<matplotlib.axes._subplots.AxesSubplot at 0x7f9ff87d2710>"
            ]
          },
          "metadata": {},
          "execution_count": 8
        },
        {
          "output_type": "display_data",
          "data": {
            "image/png": "[encoded data removed]",
            "text/plain": [
              "<Figure size 432x288 with 1 Axes>"
            ]
          },
          "metadata": {
            "needs_background": "light"
          }
        }
      ]
    },
    {
      "cell_type": "code",
      "metadata": {
        "colab": {
          "base_uri": "https://localhost:8080/",
          "height": 312
        },
        "id": "aDqwiPrDXBnJ",
        "outputId": "0e09f7f7-979f-4c02-8f56-09330aa6ce88"
      },
      "source": [
        "dict_findel_df_ri['81_10'].loc['NM_U (%)'].plot(kind='bar',title = 'Hum 81_10',rot=45)"
      ],
      "execution_count": null,
      "outputs": [
        {
          "output_type": "execute_result",
          "data": {
            "text/plain": [
              "<matplotlib.axes._subplots.AxesSubplot at 0x7f9ff825d710>"
            ]
          },
          "metadata": {},
          "execution_count": 9
        },
        {
          "output_type": "display_data",
          "data": {
            "image/png": "[encoded data removed]",
            "text/plain": [
              "<Figure size 432x288 with 1 Axes>"
            ]
          },
          "metadata": {
            "needs_background": "light"
          }
        }
      ]
    },
    {
      "cell_type": "code",
      "metadata": {
        "colab": {
          "base_uri": "https://localhost:8080/",
          "height": 312
        },
        "id": "h6gbshtzXKkk",
        "outputId": "272a4200-bd02-44cf-c3de-1e465bd68da2"
      },
      "source": [
        "dict_findel_df_ri['91_20'].loc['NM_U (%)'].plot(kind='bar',title = 'Hum 91_20',rot=45)"
      ],
      "execution_count": null,
      "outputs": [
        {
          "output_type": "execute_result",
          "data": {
            "text/plain": [
              "<matplotlib.axes._subplots.AxesSubplot at 0x7f9ff81b2390>"
            ]
          },
          "metadata": {},
          "execution_count": 10
        },
        {
          "output_type": "display_data",
          "data": {
            "image/png": "[encoded data removed]",
            "text/plain": [
              "<Figure size 432x288 with 1 Axes>"
            ]
          },
          "metadata": {
            "needs_background": "light"
          }
        }
      ]
    },
    {
      "cell_type": "markdown",
      "metadata": {
        "id": "_wlV3HwruaZy"
      },
      "source": [
        "## Find quarterly (3 month wise) differences of the parameters between 81-10 vs 91-20"
      ]
    },
    {
      "cell_type": "code",
      "metadata": {
        "id": "D9DKFUfJ8W3y",
        "colab": {
          "base_uri": "https://localhost:8080/",
          "height": 632
        },
        "outputId": "1ba0343d-7fa6-4760-b384-e660c508ebe6"
      },
      "source": [
        "diff_df = dict_findel_df_ri['91_20'].subtract(dict_findel_df_ri['81_10'])/((dict_findel_df_ri['81_10']+dict_findel_df_ri['91_20'])/2)\n",
        "diff_df = diff_df.fillna(0)\n",
        "diff_df_q = diff_df.groupby(pd.PeriodIndex(diff_df.columns, freq='Q'), axis=1).mean()\n",
        "\n",
        "print('https://pandas.pydata.org/pandas-docs/stable/user_guide/timeseries.html#offset-aliases')\n",
        "\n",
        "diff_df_q\n",
        "(dict_findel_df_ri['81_10']+dict_findel_df_ri['91_20'])/2"
      ],
      "execution_count": null,
      "outputs": [
        {
          "output_type": "stream",
          "name": "stdout",
          "text": [
            "https://pandas.pydata.org/pandas-docs/stable/user_guide/timeseries.html#offset-aliases\n"
          ]
        },
        {
          "output_type": "execute_result",
          "data": {
            "text/html": [
              "<div>\n",
              "<style scoped>\n",
              "    .dataframe tbody tr th:only-of-type {\n",
              "        vertical-align: middle;\n",
              "    }\n",
              "\n",
              "    .dataframe tbody tr th {\n",
              "        vertical-align: top;\n",
              "    }\n",
              "\n",
              "    .dataframe thead th {\n",
              "        text-align: right;\n",
              "    }\n",
              "</style>\n",
              "<table border=\"1\" class=\"dataframe\">\n",
              "  <thead>\n",
              "    <tr style=\"text-align: right;\">\n",
              "      <th></th>\n",
              "      <th>JAN</th>\n",
              "      <th>FEB</th>\n",
              "      <th>MAR</th>\n",
              "      <th>APR</th>\n",
              "      <th>MAY</th>\n",
              "      <th>JUN</th>\n",
              "      <th>JUL</th>\n",
              "      <th>AUG</th>\n",
              "      <th>SEP</th>\n",
              "      <th>OCT</th>\n",
              "      <th>NOV</th>\n",
              "      <th>DEC</th>\n",
              "    </tr>\n",
              "    <tr>\n",
              "      <th>Parameters</th>\n",
              "      <th></th>\n",
              "      <th></th>\n",
              "      <th></th>\n",
              "      <th></th>\n",
              "      <th></th>\n",
              "      <th></th>\n",
              "      <th></th>\n",
              "      <th></th>\n",
              "      <th></th>\n",
              "      <th></th>\n",
              "      <th></th>\n",
              "      <th></th>\n",
              "    </tr>\n",
              "  </thead>\n",
              "  <tbody>\n",
              "    <tr>\n",
              "      <th>NM_T (°C)</th>\n",
              "      <td>1.10</td>\n",
              "      <td>1.90</td>\n",
              "      <td>5.45</td>\n",
              "      <td>9.15</td>\n",
              "      <td>13.25</td>\n",
              "      <td>16.30</td>\n",
              "      <td>18.45</td>\n",
              "      <td>18.05</td>\n",
              "      <td>14.10</td>\n",
              "      <td>9.70</td>\n",
              "      <td>4.95</td>\n",
              "      <td>2.05</td>\n",
              "    </tr>\n",
              "    <tr>\n",
              "      <th>NM_XT (°C)</th>\n",
              "      <td>3.45</td>\n",
              "      <td>4.95</td>\n",
              "      <td>9.45</td>\n",
              "      <td>13.85</td>\n",
              "      <td>18.10</td>\n",
              "      <td>21.20</td>\n",
              "      <td>23.60</td>\n",
              "      <td>23.15</td>\n",
              "      <td>18.70</td>\n",
              "      <td>13.30</td>\n",
              "      <td>7.50</td>\n",
              "      <td>4.20</td>\n",
              "    </tr>\n",
              "    <tr>\n",
              "      <th>NM_NT (°C)</th>\n",
              "      <td>-1.30</td>\n",
              "      <td>-1.00</td>\n",
              "      <td>1.80</td>\n",
              "      <td>4.75</td>\n",
              "      <td>8.55</td>\n",
              "      <td>11.45</td>\n",
              "      <td>13.55</td>\n",
              "      <td>13.30</td>\n",
              "      <td>10.15</td>\n",
              "      <td>6.45</td>\n",
              "      <td>2.50</td>\n",
              "      <td>-0.25</td>\n",
              "    </tr>\n",
              "    <tr>\n",
              "      <th>NM_RR06_06 (mm)</th>\n",
              "      <td>74.05</td>\n",
              "      <td>61.00</td>\n",
              "      <td>62.85</td>\n",
              "      <td>53.80</td>\n",
              "      <td>75.90</td>\n",
              "      <td>76.45</td>\n",
              "      <td>71.55</td>\n",
              "      <td>73.65</td>\n",
              "      <td>71.45</td>\n",
              "      <td>81.50</td>\n",
              "      <td>73.85</td>\n",
              "      <td>88.10</td>\n",
              "    </tr>\n",
              "    <tr>\n",
              "      <th>NM_INS (hours)</th>\n",
              "      <td>51.15</td>\n",
              "      <td>81.55</td>\n",
              "      <td>131.10</td>\n",
              "      <td>189.55</td>\n",
              "      <td>219.85</td>\n",
              "      <td>234.10</td>\n",
              "      <td>253.95</td>\n",
              "      <td>233.95</td>\n",
              "      <td>168.40</td>\n",
              "      <td>106.30</td>\n",
              "      <td>52.65</td>\n",
              "      <td>41.45</td>\n",
              "    </tr>\n",
              "    <tr>\n",
              "      <th>NM_U (%)</th>\n",
              "      <td>87.50</td>\n",
              "      <td>82.00</td>\n",
              "      <td>74.50</td>\n",
              "      <td>67.50</td>\n",
              "      <td>68.50</td>\n",
              "      <td>68.50</td>\n",
              "      <td>67.00</td>\n",
              "      <td>68.50</td>\n",
              "      <td>75.50</td>\n",
              "      <td>83.50</td>\n",
              "      <td>88.50</td>\n",
              "      <td>89.00</td>\n",
              "    </tr>\n",
              "    <tr>\n",
              "      <th>NM_QFF (hPa)</th>\n",
              "      <td>1019.80</td>\n",
              "      <td>1018.40</td>\n",
              "      <td>1016.40</td>\n",
              "      <td>1014.70</td>\n",
              "      <td>1015.20</td>\n",
              "      <td>1016.30</td>\n",
              "      <td>1016.50</td>\n",
              "      <td>1015.90</td>\n",
              "      <td>1016.40</td>\n",
              "      <td>1016.50</td>\n",
              "      <td>1016.40</td>\n",
              "      <td>1017.60</td>\n",
              "    </tr>\n",
              "    <tr>\n",
              "      <th>NM_ODRR01 (days)</th>\n",
              "      <td>17.15</td>\n",
              "      <td>14.85</td>\n",
              "      <td>15.45</td>\n",
              "      <td>13.20</td>\n",
              "      <td>14.20</td>\n",
              "      <td>13.60</td>\n",
              "      <td>13.35</td>\n",
              "      <td>13.15</td>\n",
              "      <td>12.60</td>\n",
              "      <td>15.30</td>\n",
              "      <td>17.35</td>\n",
              "      <td>17.50</td>\n",
              "    </tr>\n",
              "    <tr>\n",
              "      <th>NM_OFOG (days)</th>\n",
              "      <td>10.85</td>\n",
              "      <td>7.25</td>\n",
              "      <td>4.55</td>\n",
              "      <td>2.20</td>\n",
              "      <td>2.30</td>\n",
              "      <td>1.70</td>\n",
              "      <td>1.40</td>\n",
              "      <td>2.20</td>\n",
              "      <td>4.05</td>\n",
              "      <td>8.40</td>\n",
              "      <td>11.05</td>\n",
              "      <td>11.70</td>\n",
              "    </tr>\n",
              "    <tr>\n",
              "      <th>NM_OCASETHSTORM (days)</th>\n",
              "      <td>0.30</td>\n",
              "      <td>0.70</td>\n",
              "      <td>0.50</td>\n",
              "      <td>2.25</td>\n",
              "      <td>6.45</td>\n",
              "      <td>9.15</td>\n",
              "      <td>8.10</td>\n",
              "      <td>7.35</td>\n",
              "      <td>2.70</td>\n",
              "      <td>1.05</td>\n",
              "      <td>0.10</td>\n",
              "      <td>0.25</td>\n",
              "    </tr>\n",
              "    <tr>\n",
              "      <th>NM_OGLAZE (days)</th>\n",
              "      <td>1.55</td>\n",
              "      <td>0.45</td>\n",
              "      <td>0.05</td>\n",
              "      <td>0.00</td>\n",
              "      <td>0.00</td>\n",
              "      <td>0.00</td>\n",
              "      <td>0.00</td>\n",
              "      <td>0.00</td>\n",
              "      <td>0.00</td>\n",
              "      <td>0.00</td>\n",
              "      <td>0.20</td>\n",
              "      <td>1.65</td>\n",
              "    </tr>\n",
              "    <tr>\n",
              "      <th>NM_OSNOW (days)</th>\n",
              "      <td>8.05</td>\n",
              "      <td>7.80</td>\n",
              "      <td>4.15</td>\n",
              "      <td>1.80</td>\n",
              "      <td>0.00</td>\n",
              "      <td>0.00</td>\n",
              "      <td>0.00</td>\n",
              "      <td>0.00</td>\n",
              "      <td>0.00</td>\n",
              "      <td>0.10</td>\n",
              "      <td>2.55</td>\n",
              "      <td>7.05</td>\n",
              "    </tr>\n",
              "    <tr>\n",
              "      <th>NM_OGROUNDSNOW (days)</th>\n",
              "      <td>8.25</td>\n",
              "      <td>7.35</td>\n",
              "      <td>2.85</td>\n",
              "      <td>0.40</td>\n",
              "      <td>0.00</td>\n",
              "      <td>0.00</td>\n",
              "      <td>0.00</td>\n",
              "      <td>0.00</td>\n",
              "      <td>0.00</td>\n",
              "      <td>0.00</td>\n",
              "      <td>1.80</td>\n",
              "      <td>6.45</td>\n",
              "    </tr>\n",
              "    <tr>\n",
              "      <th>NM_ODXT25 (days)</th>\n",
              "      <td>0.00</td>\n",
              "      <td>0.00</td>\n",
              "      <td>0.00</td>\n",
              "      <td>0.40</td>\n",
              "      <td>2.70</td>\n",
              "      <td>7.20</td>\n",
              "      <td>12.15</td>\n",
              "      <td>10.25</td>\n",
              "      <td>2.50</td>\n",
              "      <td>0.05</td>\n",
              "      <td>0.00</td>\n",
              "      <td>0.00</td>\n",
              "    </tr>\n",
              "    <tr>\n",
              "      <th>NM_ODXT30 (days)</th>\n",
              "      <td>0.00</td>\n",
              "      <td>0.00</td>\n",
              "      <td>0.00</td>\n",
              "      <td>0.00</td>\n",
              "      <td>0.05</td>\n",
              "      <td>0.80</td>\n",
              "      <td>2.80</td>\n",
              "      <td>2.05</td>\n",
              "      <td>0.15</td>\n",
              "      <td>0.00</td>\n",
              "      <td>0.00</td>\n",
              "      <td>0.00</td>\n",
              "    </tr>\n",
              "    <tr>\n",
              "      <th>NM_ODNT0 (days)</th>\n",
              "      <td>17.60</td>\n",
              "      <td>15.55</td>\n",
              "      <td>8.90</td>\n",
              "      <td>2.70</td>\n",
              "      <td>0.05</td>\n",
              "      <td>0.00</td>\n",
              "      <td>0.00</td>\n",
              "      <td>0.00</td>\n",
              "      <td>0.00</td>\n",
              "      <td>1.30</td>\n",
              "      <td>7.55</td>\n",
              "      <td>15.50</td>\n",
              "    </tr>\n",
              "    <tr>\n",
              "      <th>NM_ODXT0 (days)</th>\n",
              "      <td>6.40</td>\n",
              "      <td>3.70</td>\n",
              "      <td>0.35</td>\n",
              "      <td>0.00</td>\n",
              "      <td>0.00</td>\n",
              "      <td>0.00</td>\n",
              "      <td>0.00</td>\n",
              "      <td>0.00</td>\n",
              "      <td>0.00</td>\n",
              "      <td>0.00</td>\n",
              "      <td>1.05</td>\n",
              "      <td>4.35</td>\n",
              "    </tr>\n",
              "  </tbody>\n",
              "</table>\n",
              "</div>"
            ],
            "text/plain": [
              "                            JAN      FEB      MAR  ...      OCT      NOV      DEC\n",
              "Parameters                                         ...                           \n",
              "NM_T (°C)                  1.10     1.90     5.45  ...     9.70     4.95     2.05\n",
              "NM_XT (°C)                 3.45     4.95     9.45  ...    13.30     7.50     4.20\n",
              "NM_NT (°C)                -1.30    -1.00     1.80  ...     6.45     2.50    -0.25\n",
              "NM_RR06_06 (mm)           74.05    61.00    62.85  ...    81.50    73.85    88.10\n",
              "NM_INS (hours)            51.15    81.55   131.10  ...   106.30    52.65    41.45\n",
              "NM_U (%)                  87.50    82.00    74.50  ...    83.50    88.50    89.00\n",
              "NM_QFF (hPa)            1019.80  1018.40  1016.40  ...  1016.50  1016.40  1017.60\n",
              "NM_ODRR01 (days)          17.15    14.85    15.45  ...    15.30    17.35    17.50\n",
              "NM_OFOG (days)            10.85     7.25     4.55  ...     8.40    11.05    11.70\n",
              "NM_OCASETHSTORM (days)     0.30     0.70     0.50  ...     1.05     0.10     0.25\n",
              "NM_OGLAZE (days)           1.55     0.45     0.05  ...     0.00     0.20     1.65\n",
              "NM_OSNOW (days)            8.05     7.80     4.15  ...     0.10     2.55     7.05\n",
              "NM_OGROUNDSNOW (days)      8.25     7.35     2.85  ...     0.00     1.80     6.45\n",
              "NM_ODXT25 (days)           0.00     0.00     0.00  ...     0.05     0.00     0.00\n",
              "NM_ODXT30 (days)           0.00     0.00     0.00  ...     0.00     0.00     0.00\n",
              "NM_ODNT0 (days)           17.60    15.55     8.90  ...     1.30     7.55    15.50\n",
              "NM_ODXT0 (days)            6.40     3.70     0.35  ...     0.00     1.05     4.35\n",
              "\n",
              "[17 rows x 12 columns]"
            ]
          },
          "metadata": {},
          "execution_count": 48
        }
      ]
    },
    {
      "cell_type": "markdown",
      "metadata": {
        "id": "06F2nceG64ve"
      },
      "source": [
        "## Write codes to check the following statements if they are True or False"
      ]
    },
    {
      "cell_type": "markdown",
      "metadata": {
        "id": "ksaGY7747cQF"
      },
      "source": [
        "### Quarterly mean temperature is not affected by climate change"
      ]
    },
    {
      "cell_type": "code",
      "metadata": {
        "id": "FqO859KP8YGl",
        "colab": {
          "base_uri": "https://localhost:8080/"
        },
        "outputId": "8be17b5f-a680-440c-f6f1-92c7cad88f4b"
      },
      "source": [
        "diff_df_q.loc['NM_T (°C)'] == 0"
      ],
      "execution_count": null,
      "outputs": [
        {
          "output_type": "execute_result",
          "data": {
            "text/plain": [
              "1Q1    False\n",
              "1Q2    False\n",
              "1Q3    False\n",
              "1Q4    False\n",
              "Freq: Q-DEC, Name: NM_T (°C), dtype: bool"
            ]
          },
          "metadata": {},
          "execution_count": 33
        }
      ]
    },
    {
      "cell_type": "markdown",
      "metadata": {
        "id": "iru1cLTO75Xx"
      },
      "source": [
        "### Fog is decreasing in the winter months (Dec-Mar) between decades"
      ]
    },
    {
      "cell_type": "code",
      "metadata": {
        "id": "L4ZFmVLV8YxX",
        "colab": {
          "base_uri": "https://localhost:8080/"
        },
        "outputId": "da6cde39-f1fc-4efa-be8c-b80386c6b8b7"
      },
      "source": [
        "diff_df.loc['NM_OFOG (days)'][['DEC','JAN','FEB','MAR']] < 0"
      ],
      "execution_count": null,
      "outputs": [
        {
          "output_type": "execute_result",
          "data": {
            "text/plain": [
              "DEC    True\n",
              "JAN    True\n",
              "FEB    True\n",
              "MAR    True\n",
              "Name: NM_OFOG (days), dtype: bool"
            ]
          },
          "metadata": {},
          "execution_count": 34
        }
      ]
    },
    {
      "cell_type": "markdown",
      "metadata": {
        "id": "LhRa7GVI8nM2"
      },
      "source": [
        "### Precipitation (rain) pattern is changing between decades"
      ]
    },
    {
      "cell_type": "code",
      "metadata": {
        "id": "yWyXlceM8mU0",
        "colab": {
          "base_uri": "https://localhost:8080/",
          "height": 175
        },
        "outputId": "dcf5ea5b-87ee-4542-8151-89ae66277de2"
      },
      "source": [
        "diff_df_q.loc[['NM_RR06_06 (mm)','NM_ODRR01 (days)'],:].T.style.bar(align='mid', color=['#d65f5f', '#5fba7d'])"
      ],
      "execution_count": null,
      "outputs": [
        {
          "output_type": "execute_result",
          "data": {
            "text/html": [
              "<style  type=\"text/css\" >\n",
              "#T_3e8a51ce_4598_11ec_aa84_0242ac1c0002row0_col0{\n",
              "            width:  10em;\n",
              "             height:  80%;\n",
              "            background:  linear-gradient(90deg, transparent 1.7%, #d65f5f 1.7%, #d65f5f 100.0%, transparent 100.0%);\n",
              "        }#T_3e8a51ce_4598_11ec_aa84_0242ac1c0002row0_col1{\n",
              "            width:  10em;\n",
              "             height:  80%;\n",
              "            background:  linear-gradient(90deg, transparent 67.0%, #5fba7d 67.0%, #5fba7d 70.4%, transparent 70.4%);\n",
              "        }#T_3e8a51ce_4598_11ec_aa84_0242ac1c0002row1_col0{\n",
              "            width:  10em;\n",
              "             height:  80%;\n",
              "            background:  linear-gradient(90deg,#d65f5f 100.0%, transparent 100.0%);\n",
              "        }#T_3e8a51ce_4598_11ec_aa84_0242ac1c0002row1_col1{\n",
              "            width:  10em;\n",
              "             height:  80%;\n",
              "            background:  linear-gradient(90deg,#d65f5f 67.0%, transparent 67.0%);\n",
              "        }#T_3e8a51ce_4598_11ec_aa84_0242ac1c0002row2_col0{\n",
              "            width:  10em;\n",
              "             height:  80%;\n",
              "            background:  linear-gradient(90deg, transparent 47.9%, #d65f5f 47.9%, #d65f5f 100.0%, transparent 100.0%);\n",
              "        }#T_3e8a51ce_4598_11ec_aa84_0242ac1c0002row2_col1{\n",
              "            width:  10em;\n",
              "             height:  80%;\n",
              "            background:  linear-gradient(90deg, transparent 65.5%, #d65f5f 65.5%, #d65f5f 67.0%, transparent 67.0%);\n",
              "        }#T_3e8a51ce_4598_11ec_aa84_0242ac1c0002row3_col0{\n",
              "            width:  10em;\n",
              "             height:  80%;\n",
              "            background:  linear-gradient(90deg, transparent 51.4%, #d65f5f 51.4%, #d65f5f 100.0%, transparent 100.0%);\n",
              "        }#T_3e8a51ce_4598_11ec_aa84_0242ac1c0002row3_col1{\n",
              "            width:  10em;\n",
              "             height:  80%;\n",
              "            background:  linear-gradient(90deg, transparent 67.0%, #5fba7d 67.0%, #5fba7d 100.0%, transparent 100.0%);\n",
              "        }</style><table id=\"T_3e8a51ce_4598_11ec_aa84_0242ac1c0002\" class=\"dataframe\"><thead>    <tr>        <th class=\"index_name level0\" >Parameters</th>        <th class=\"col_heading level0 col0\" >NM_RR06_06 (mm)</th>        <th class=\"col_heading level0 col1\" >NM_ODRR01 (days)</th>    </tr></thead><tbody>\n",
              "                <tr>\n",
              "                        <th id=\"T_3e8a51ce_4598_11ec_aa84_0242ac1c0002level0_row0\" class=\"row_heading level0 row0\" >1Q1</th>\n",
              "                        <td id=\"T_3e8a51ce_4598_11ec_aa84_0242ac1c0002row0_col0\" class=\"data row0 col0\" >-0.105646</td>\n",
              "                        <td id=\"T_3e8a51ce_4598_11ec_aa84_0242ac1c0002row0_col1\" class=\"data row0 col1\" >0.002475</td>\n",
              "            </tr>\n",
              "            <tr>\n",
              "                        <th id=\"T_3e8a51ce_4598_11ec_aa84_0242ac1c0002level0_row1\" class=\"row_heading level0 row1\" >1Q2</th>\n",
              "                        <td id=\"T_3e8a51ce_4598_11ec_aa84_0242ac1c0002row1_col0\" class=\"data row1 col0\" >-0.107445</td>\n",
              "                        <td id=\"T_3e8a51ce_4598_11ec_aa84_0242ac1c0002row1_col1\" class=\"data row1 col1\" >-0.049348</td>\n",
              "            </tr>\n",
              "            <tr>\n",
              "                        <th id=\"T_3e8a51ce_4598_11ec_aa84_0242ac1c0002level0_row2\" class=\"row_heading level0 row2\" >1Q3</th>\n",
              "                        <td id=\"T_3e8a51ce_4598_11ec_aa84_0242ac1c0002row2_col0\" class=\"data row2 col0\" >-0.055969</td>\n",
              "                        <td id=\"T_3e8a51ce_4598_11ec_aa84_0242ac1c0002row2_col1\" class=\"data row2 col1\" >-0.001151</td>\n",
              "            </tr>\n",
              "            <tr>\n",
              "                        <th id=\"T_3e8a51ce_4598_11ec_aa84_0242ac1c0002level0_row3\" class=\"row_heading level0 row3\" >1Q4</th>\n",
              "                        <td id=\"T_3e8a51ce_4598_11ec_aa84_0242ac1c0002row3_col0\" class=\"data row3 col0\" >-0.052168</td>\n",
              "                        <td id=\"T_3e8a51ce_4598_11ec_aa84_0242ac1c0002row3_col1\" class=\"data row3 col1\" >0.024264</td>\n",
              "            </tr>\n",
              "    </tbody></table>"
            ],
            "text/plain": [
              "<pandas.io.formats.style.Styler at 0x7fdae9839350>"
            ]
          },
          "metadata": {},
          "execution_count": 35
        }
      ]
    },
    {
      "cell_type": "code",
      "metadata": {
        "colab": {
          "base_uri": "https://localhost:8080/",
          "height": 426
        },
        "id": "bVS7-HA56xWL",
        "outputId": "cd1f7bda-d329-480d-e8fd-995930f3dbff"
      },
      "source": [
        "diff_df.loc[['NM_RR06_06 (mm)','NM_ODRR01 (days)'],:].T.style.bar(align='mid', color=['#d65f5f', '#5fba7d'])"
      ],
      "execution_count": null,
      "outputs": [
        {
          "output_type": "execute_result",
          "data": {
            "text/html": [
              "<style  type=\"text/css\" >\n",
              "#T_40a6fc1e_4598_11ec_aa84_0242ac1c0002row0_col0{\n",
              "            width:  10em;\n",
              "             height:  80%;\n",
              "            background:  linear-gradient(90deg, transparent 56.4%, #d65f5f 56.4%, #d65f5f 86.2%, transparent 86.2%);\n",
              "        }#T_40a6fc1e_4598_11ec_aa84_0242ac1c0002row0_col1{\n",
              "            width:  10em;\n",
              "             height:  80%;\n",
              "            background:  linear-gradient(90deg, transparent 53.2%, #5fba7d 53.2%, #5fba7d 64.2%, transparent 64.2%);\n",
              "        }#T_40a6fc1e_4598_11ec_aa84_0242ac1c0002row1_col0{\n",
              "            width:  10em;\n",
              "             height:  80%;\n",
              "            background:  linear-gradient(90deg, transparent 64.9%, #d65f5f 64.9%, #d65f5f 86.2%, transparent 86.2%);\n",
              "        }#T_40a6fc1e_4598_11ec_aa84_0242ac1c0002row1_col1{\n",
              "            width:  10em;\n",
              "             height:  80%;\n",
              "            background:  linear-gradient(90deg, transparent 53.2%, #5fba7d 53.2%, #5fba7d 100.0%, transparent 100.0%);\n",
              "        }#T_40a6fc1e_4598_11ec_aa84_0242ac1c0002row2_col0{\n",
              "            width:  10em;\n",
              "             height:  80%;\n",
              "            background:  linear-gradient(90deg,#d65f5f 86.2%, transparent 86.2%);\n",
              "        }#T_40a6fc1e_4598_11ec_aa84_0242ac1c0002row2_col1{\n",
              "            width:  10em;\n",
              "             height:  80%;\n",
              "            background:  linear-gradient(90deg,#d65f5f 53.2%, transparent 53.2%);\n",
              "        }#T_40a6fc1e_4598_11ec_aa84_0242ac1c0002row3_col0{\n",
              "            width:  10em;\n",
              "             height:  80%;\n",
              "            background:  linear-gradient(90deg, transparent 15.3%, #d65f5f 15.3%, #d65f5f 86.2%, transparent 86.2%);\n",
              "        }#T_40a6fc1e_4598_11ec_aa84_0242ac1c0002row3_col1{\n",
              "            width:  10em;\n",
              "             height:  80%;\n",
              "            background:  linear-gradient(90deg, transparent 5.3%, #d65f5f 5.3%, #d65f5f 53.2%, transparent 53.2%);\n",
              "        }#T_40a6fc1e_4598_11ec_aa84_0242ac1c0002row4_col0{\n",
              "            width:  10em;\n",
              "             height:  80%;\n",
              "            background:  linear-gradient(90deg, transparent 56.5%, #d65f5f 56.5%, #d65f5f 86.2%, transparent 86.2%);\n",
              "        }#T_40a6fc1e_4598_11ec_aa84_0242ac1c0002row4_col1{\n",
              "            width:  10em;\n",
              "             height:  80%;\n",
              "            background:  linear-gradient(90deg, transparent 35.4%, #d65f5f 35.4%, #d65f5f 53.2%, transparent 53.2%);\n",
              "        }#T_40a6fc1e_4598_11ec_aa84_0242ac1c0002row5_col0{\n",
              "            width:  10em;\n",
              "             height:  80%;\n",
              "            background:  linear-gradient(90deg, transparent 47.1%, #d65f5f 47.1%, #d65f5f 86.2%, transparent 86.2%);\n",
              "        }#T_40a6fc1e_4598_11ec_aa84_0242ac1c0002row5_col1{\n",
              "            width:  10em;\n",
              "             height:  80%;\n",
              "            background:  linear-gradient(90deg, transparent 25.3%, #d65f5f 25.3%, #d65f5f 53.2%, transparent 53.2%);\n",
              "        }#T_40a6fc1e_4598_11ec_aa84_0242ac1c0002row6_col0{\n",
              "            width:  10em;\n",
              "             height:  80%;\n",
              "            background:  linear-gradient(90deg, transparent 86.2%, #5fba7d 86.2%, #5fba7d 92.9%, transparent 92.9%);\n",
              "        }#T_40a6fc1e_4598_11ec_aa84_0242ac1c0002row6_col1{\n",
              "            width:  10em;\n",
              "             height:  80%;\n",
              "            background:  linear-gradient(90deg, transparent 53.2%, #5fba7d 53.2%, #5fba7d 86.3%, transparent 86.3%);\n",
              "        }#T_40a6fc1e_4598_11ec_aa84_0242ac1c0002row7_col0{\n",
              "            width:  10em;\n",
              "             height:  80%;\n",
              "            background:  linear-gradient(90deg, transparent 65.6%, #d65f5f 65.6%, #d65f5f 86.2%, transparent 86.2%);\n",
              "        }#T_40a6fc1e_4598_11ec_aa84_0242ac1c0002row7_col1{\n",
              "            width:  10em;\n",
              "             height:  80%;\n",
              "            background:  linear-gradient(90deg, transparent 53.2%, #5fba7d 53.2%, #5fba7d 58.0%, transparent 58.0%);\n",
              "        }#T_40a6fc1e_4598_11ec_aa84_0242ac1c0002row8_col0{\n",
              "            width:  10em;\n",
              "             height:  80%;\n",
              "            background:  linear-gradient(90deg, transparent 27.4%, #d65f5f 27.4%, #d65f5f 86.2%, transparent 86.2%);\n",
              "        }#T_40a6fc1e_4598_11ec_aa84_0242ac1c0002row8_col1{\n",
              "            width:  10em;\n",
              "             height:  80%;\n",
              "            background:  linear-gradient(90deg, transparent 13.1%, #d65f5f 13.1%, #d65f5f 53.2%, transparent 53.2%);\n",
              "        }#T_40a6fc1e_4598_11ec_aa84_0242ac1c0002row9_col0{\n",
              "            width:  10em;\n",
              "             height:  80%;\n",
              "            background:  linear-gradient(90deg, transparent 29.8%, #d65f5f 29.8%, #d65f5f 86.2%, transparent 86.2%);\n",
              "        }#T_40a6fc1e_4598_11ec_aa84_0242ac1c0002row9_col1{\n",
              "            width:  10em;\n",
              "             height:  80%;\n",
              "            background:  linear-gradient(90deg, transparent 44.9%, #d65f5f 44.9%, #d65f5f 53.2%, transparent 53.2%);\n",
              "        }#T_40a6fc1e_4598_11ec_aa84_0242ac1c0002row10_col0{\n",
              "            width:  10em;\n",
              "             height:  80%;\n",
              "            background:  linear-gradient(90deg, transparent 61.0%, #d65f5f 61.0%, #d65f5f 86.2%, transparent 86.2%);\n",
              "        }#T_40a6fc1e_4598_11ec_aa84_0242ac1c0002row10_col1{\n",
              "            width:  10em;\n",
              "             height:  80%;\n",
              "            background:  linear-gradient(90deg, transparent 53.2%, #5fba7d 53.2%, #5fba7d 64.1%, transparent 64.1%);\n",
              "        }#T_40a6fc1e_4598_11ec_aa84_0242ac1c0002row11_col0{\n",
              "            width:  10em;\n",
              "             height:  80%;\n",
              "            background:  linear-gradient(90deg, transparent 86.2%, #5fba7d 86.2%, #5fba7d 100.0%, transparent 100.0%);\n",
              "        }#T_40a6fc1e_4598_11ec_aa84_0242ac1c0002row11_col1{\n",
              "            width:  10em;\n",
              "             height:  80%;\n",
              "            background:  linear-gradient(90deg, transparent 53.2%, #5fba7d 53.2%, #5fba7d 96.5%, transparent 96.5%);\n",
              "        }</style><table id=\"T_40a6fc1e_4598_11ec_aa84_0242ac1c0002\" class=\"dataframe\"><thead>    <tr>        <th class=\"index_name level0\" >Parameters</th>        <th class=\"col_heading level0 col0\" >NM_RR06_06 (mm)</th>        <th class=\"col_heading level0 col1\" >NM_ODRR01 (days)</th>    </tr></thead><tbody>\n",
              "                <tr>\n",
              "                        <th id=\"T_40a6fc1e_4598_11ec_aa84_0242ac1c0002level0_row0\" class=\"row_heading level0 row0\" >JAN</th>\n",
              "                        <td id=\"T_40a6fc1e_4598_11ec_aa84_0242ac1c0002row0_col0\" class=\"data row0 col0\" >-0.068872</td>\n",
              "                        <td id=\"T_40a6fc1e_4598_11ec_aa84_0242ac1c0002row0_col1\" class=\"data row0 col1\" >0.017493</td>\n",
              "            </tr>\n",
              "            <tr>\n",
              "                        <th id=\"T_40a6fc1e_4598_11ec_aa84_0242ac1c0002level0_row1\" class=\"row_heading level0 row1\" >FEB</th>\n",
              "                        <td id=\"T_40a6fc1e_4598_11ec_aa84_0242ac1c0002row1_col0\" class=\"data row1 col0\" >-0.049180</td>\n",
              "                        <td id=\"T_40a6fc1e_4598_11ec_aa84_0242ac1c0002row1_col1\" class=\"data row1 col1\" >0.074074</td>\n",
              "            </tr>\n",
              "            <tr>\n",
              "                        <th id=\"T_40a6fc1e_4598_11ec_aa84_0242ac1c0002level0_row2\" class=\"row_heading level0 row2\" >MAR</th>\n",
              "                        <td id=\"T_40a6fc1e_4598_11ec_aa84_0242ac1c0002row2_col0\" class=\"data row2 col0\" >-0.198886</td>\n",
              "                        <td id=\"T_40a6fc1e_4598_11ec_aa84_0242ac1c0002row2_col1\" class=\"data row2 col1\" >-0.084142</td>\n",
              "            </tr>\n",
              "            <tr>\n",
              "                        <th id=\"T_40a6fc1e_4598_11ec_aa84_0242ac1c0002level0_row3\" class=\"row_heading level0 row3\" >APR</th>\n",
              "                        <td id=\"T_40a6fc1e_4598_11ec_aa84_0242ac1c0002row3_col0\" class=\"data row3 col0\" >-0.163569</td>\n",
              "                        <td id=\"T_40a6fc1e_4598_11ec_aa84_0242ac1c0002row3_col1\" class=\"data row3 col1\" >-0.075758</td>\n",
              "            </tr>\n",
              "            <tr>\n",
              "                        <th id=\"T_40a6fc1e_4598_11ec_aa84_0242ac1c0002level0_row4\" class=\"row_heading level0 row4\" >MAY</th>\n",
              "                        <td id=\"T_40a6fc1e_4598_11ec_aa84_0242ac1c0002row4_col0\" class=\"data row4 col0\" >-0.068511</td>\n",
              "                        <td id=\"T_40a6fc1e_4598_11ec_aa84_0242ac1c0002row4_col1\" class=\"data row4 col1\" >-0.028169</td>\n",
              "            </tr>\n",
              "            <tr>\n",
              "                        <th id=\"T_40a6fc1e_4598_11ec_aa84_0242ac1c0002level0_row5\" class=\"row_heading level0 row5\" >JUN</th>\n",
              "                        <td id=\"T_40a6fc1e_4598_11ec_aa84_0242ac1c0002row5_col0\" class=\"data row5 col0\" >-0.090255</td>\n",
              "                        <td id=\"T_40a6fc1e_4598_11ec_aa84_0242ac1c0002row5_col1\" class=\"data row5 col1\" >-0.044118</td>\n",
              "            </tr>\n",
              "            <tr>\n",
              "                        <th id=\"T_40a6fc1e_4598_11ec_aa84_0242ac1c0002level0_row6\" class=\"row_heading level0 row6\" >JUL</th>\n",
              "                        <td id=\"T_40a6fc1e_4598_11ec_aa84_0242ac1c0002row6_col0\" class=\"data row6 col0\" >0.015374</td>\n",
              "                        <td id=\"T_40a6fc1e_4598_11ec_aa84_0242ac1c0002row6_col1\" class=\"data row6 col1\" >0.052434</td>\n",
              "            </tr>\n",
              "            <tr>\n",
              "                        <th id=\"T_40a6fc1e_4598_11ec_aa84_0242ac1c0002level0_row7\" class=\"row_heading level0 row7\" >AUG</th>\n",
              "                        <td id=\"T_40a6fc1e_4598_11ec_aa84_0242ac1c0002row7_col0\" class=\"data row7 col0\" >-0.047522</td>\n",
              "                        <td id=\"T_40a6fc1e_4598_11ec_aa84_0242ac1c0002row7_col1\" class=\"data row7 col1\" >0.007605</td>\n",
              "            </tr>\n",
              "            <tr>\n",
              "                        <th id=\"T_40a6fc1e_4598_11ec_aa84_0242ac1c0002level0_row8\" class=\"row_heading level0 row8\" >SEP</th>\n",
              "                        <td id=\"T_40a6fc1e_4598_11ec_aa84_0242ac1c0002row8_col0\" class=\"data row8 col0\" >-0.135759</td>\n",
              "                        <td id=\"T_40a6fc1e_4598_11ec_aa84_0242ac1c0002row8_col1\" class=\"data row8 col1\" >-0.063492</td>\n",
              "            </tr>\n",
              "            <tr>\n",
              "                        <th id=\"T_40a6fc1e_4598_11ec_aa84_0242ac1c0002level0_row9\" class=\"row_heading level0 row9\" >OCT</th>\n",
              "                        <td id=\"T_40a6fc1e_4598_11ec_aa84_0242ac1c0002row9_col0\" class=\"data row9 col0\" >-0.130061</td>\n",
              "                        <td id=\"T_40a6fc1e_4598_11ec_aa84_0242ac1c0002row9_col1\" class=\"data row9 col1\" >-0.013072</td>\n",
              "            </tr>\n",
              "            <tr>\n",
              "                        <th id=\"T_40a6fc1e_4598_11ec_aa84_0242ac1c0002level0_row10\" class=\"row_heading level0 row10\" >NOV</th>\n",
              "                        <td id=\"T_40a6fc1e_4598_11ec_aa84_0242ac1c0002row10_col0\" class=\"data row10 col0\" >-0.058226</td>\n",
              "                        <td id=\"T_40a6fc1e_4598_11ec_aa84_0242ac1c0002row10_col1\" class=\"data row10 col1\" >0.017291</td>\n",
              "            </tr>\n",
              "            <tr>\n",
              "                        <th id=\"T_40a6fc1e_4598_11ec_aa84_0242ac1c0002level0_row11\" class=\"row_heading level0 row11\" >DEC</th>\n",
              "                        <td id=\"T_40a6fc1e_4598_11ec_aa84_0242ac1c0002row11_col0\" class=\"data row11 col0\" >0.031782</td>\n",
              "                        <td id=\"T_40a6fc1e_4598_11ec_aa84_0242ac1c0002row11_col1\" class=\"data row11 col1\" >0.068571</td>\n",
              "            </tr>\n",
              "    </tbody></table>"
            ],
            "text/plain": [
              "<pandas.io.formats.style.Styler at 0x7fdae9899f10>"
            ]
          },
          "metadata": {},
          "execution_count": 36
        }
      ]
    },
    {
      "cell_type": "markdown",
      "metadata": {
        "id": "ramUaK71vuP3"
      },
      "source": [
        "## Find out the three most changed parameters and three least changed parameters in the quarterly (3 month wise) differences"
      ]
    },
    {
      "cell_type": "code",
      "metadata": {
        "id": "FMYJU92y-dzO",
        "colab": {
          "base_uri": "https://localhost:8080/"
        },
        "outputId": "280ee651-22f0-4883-9913-ae694e711e0d"
      },
      "source": [
        "diff_q_sorted = diff_df_q.abs().mean(axis=1).sort_values()\n",
        "print(\"\\nLeast changed\\n\", diff_q_sorted[0:3])\n",
        "\n",
        "print(\"\\nMost changed\\n\",diff_q_sorted[-3:])"
      ],
      "execution_count": null,
      "outputs": [
        {
          "output_type": "stream",
          "name": "stdout",
          "text": [
            "\n",
            "Least changed\n",
            " Parameters\n",
            "NM_QFF (hPa)        0.000000\n",
            "NM_U (%)            0.011667\n",
            "NM_ODRR01 (days)    0.019309\n",
            "dtype: float64\n",
            "\n",
            "Most changed\n",
            " Parameters\n",
            "NM_ODNT0 (days)     0.260450\n",
            "NM_ODXT30 (days)    0.277052\n",
            "NM_ODXT25 (days)    0.287582\n",
            "dtype: float64\n"
          ]
        }
      ]
    },
    {
      "cell_type": "code",
      "metadata": {
        "colab": {
          "base_uri": "https://localhost:8080/"
        },
        "id": "Y04VhIWpHnYk",
        "outputId": "4f63f5fb-b6e8-4ca8-bd76-1c8174d07049"
      },
      "source": [
        "diff_q_sorted[-3:].index"
      ],
      "execution_count": null,
      "outputs": [
        {
          "output_type": "execute_result",
          "data": {
            "text/plain": [
              "Index(['NM_ODNT0 (days)', 'NM_ODXT30 (days)', 'NM_ODXT25 (days)'], dtype='object', name='Parameters')"
            ]
          },
          "metadata": {},
          "execution_count": 39
        }
      ]
    },
    {
      "cell_type": "markdown",
      "metadata": {
        "id": "O0gkBSih-VnI"
      },
      "source": [
        "## Is there any correlation between the most changed parameters"
      ]
    },
    {
      "cell_type": "code",
      "metadata": {
        "id": "Sj_bQa6F-eoW",
        "colab": {
          "base_uri": "https://localhost:8080/",
          "height": 175
        },
        "outputId": "dd1d7a23-3697-4f92-e716-f078c6cef0cd"
      },
      "source": [
        "diff_df.loc[diff_q_sorted[-3:].index].T.corr().style.bar(color=['#d65f5f', '#5fba7d'],axis=1,align='mid')"
      ],
      "execution_count": null,
      "outputs": [
        {
          "output_type": "execute_result",
          "data": {
            "text/html": [
              "<style  type=\"text/css\" >\n",
              "#T_45391bd6_4598_11ec_aa84_0242ac1c0002row0_col0,#T_45391bd6_4598_11ec_aa84_0242ac1c0002row1_col1{\n",
              "            width:  10em;\n",
              "             height:  80%;\n",
              "            background:  linear-gradient(90deg, transparent 43.1%, #5fba7d 43.1%, #5fba7d 100.0%, transparent 100.0%);\n",
              "        }#T_45391bd6_4598_11ec_aa84_0242ac1c0002row0_col1,#T_45391bd6_4598_11ec_aa84_0242ac1c0002row1_col0{\n",
              "            width:  10em;\n",
              "             height:  80%;\n",
              "            background:  linear-gradient(90deg,#d65f5f 43.1%, transparent 43.1%);\n",
              "        }#T_45391bd6_4598_11ec_aa84_0242ac1c0002row0_col2{\n",
              "            width:  10em;\n",
              "             height:  80%;\n",
              "            background:  linear-gradient(90deg, transparent 43.1%, #5fba7d 43.1%, #5fba7d 43.7%, transparent 43.7%);\n",
              "        }#T_45391bd6_4598_11ec_aa84_0242ac1c0002row1_col2{\n",
              "            width:  10em;\n",
              "             height:  80%;\n",
              "            background:  linear-gradient(90deg, transparent 37.3%, #d65f5f 37.3%, #d65f5f 43.1%, transparent 43.1%);\n",
              "        }#T_45391bd6_4598_11ec_aa84_0242ac1c0002row2_col0{\n",
              "            width:  10em;\n",
              "             height:  80%;\n",
              "            background:  linear-gradient(90deg, transparent 9.2%, #5fba7d 9.2%, #5fba7d 10.1%, transparent 10.1%);\n",
              "        }#T_45391bd6_4598_11ec_aa84_0242ac1c0002row2_col1{\n",
              "            width:  10em;\n",
              "             height:  80%;\n",
              "            background:  linear-gradient(90deg,#d65f5f 9.2%, transparent 9.2%);\n",
              "        }#T_45391bd6_4598_11ec_aa84_0242ac1c0002row2_col2{\n",
              "            width:  10em;\n",
              "             height:  80%;\n",
              "            background:  linear-gradient(90deg, transparent 9.2%, #5fba7d 9.2%, #5fba7d 100.0%, transparent 100.0%);\n",
              "        }</style><table id=\"T_45391bd6_4598_11ec_aa84_0242ac1c0002\" class=\"dataframe\"><thead>    <tr>        <th class=\"index_name level0\" >Parameters</th>        <th class=\"col_heading level0 col0\" >NM_ODNT0 (days)</th>        <th class=\"col_heading level0 col1\" >NM_ODXT30 (days)</th>        <th class=\"col_heading level0 col2\" >NM_ODXT25 (days)</th>    </tr>    <tr>        <th class=\"index_name level0\" >Parameters</th>        <th class=\"blank\" ></th>        <th class=\"blank\" ></th>        <th class=\"blank\" ></th>    </tr></thead><tbody>\n",
              "                <tr>\n",
              "                        <th id=\"T_45391bd6_4598_11ec_aa84_0242ac1c0002level0_row0\" class=\"row_heading level0 row0\" >NM_ODNT0 (days)</th>\n",
              "                        <td id=\"T_45391bd6_4598_11ec_aa84_0242ac1c0002row0_col0\" class=\"data row0 col0\" >1.000000</td>\n",
              "                        <td id=\"T_45391bd6_4598_11ec_aa84_0242ac1c0002row0_col1\" class=\"data row0 col1\" >-0.757288</td>\n",
              "                        <td id=\"T_45391bd6_4598_11ec_aa84_0242ac1c0002row0_col2\" class=\"data row0 col2\" >0.010369</td>\n",
              "            </tr>\n",
              "            <tr>\n",
              "                        <th id=\"T_45391bd6_4598_11ec_aa84_0242ac1c0002level0_row1\" class=\"row_heading level0 row1\" >NM_ODXT30 (days)</th>\n",
              "                        <td id=\"T_45391bd6_4598_11ec_aa84_0242ac1c0002row1_col0\" class=\"data row1 col0\" >-0.757288</td>\n",
              "                        <td id=\"T_45391bd6_4598_11ec_aa84_0242ac1c0002row1_col1\" class=\"data row1 col1\" >1.000000</td>\n",
              "                        <td id=\"T_45391bd6_4598_11ec_aa84_0242ac1c0002row1_col2\" class=\"data row1 col2\" >-0.101321</td>\n",
              "            </tr>\n",
              "            <tr>\n",
              "                        <th id=\"T_45391bd6_4598_11ec_aa84_0242ac1c0002level0_row2\" class=\"row_heading level0 row2\" >NM_ODXT25 (days)</th>\n",
              "                        <td id=\"T_45391bd6_4598_11ec_aa84_0242ac1c0002row2_col0\" class=\"data row2 col0\" >0.010369</td>\n",
              "                        <td id=\"T_45391bd6_4598_11ec_aa84_0242ac1c0002row2_col1\" class=\"data row2 col1\" >-0.101321</td>\n",
              "                        <td id=\"T_45391bd6_4598_11ec_aa84_0242ac1c0002row2_col2\" class=\"data row2 col2\" >1.000000</td>\n",
              "            </tr>\n",
              "    </tbody></table>"
            ],
            "text/plain": [
              "<pandas.io.formats.style.Styler at 0x7fdae9830690>"
            ]
          },
          "metadata": {},
          "execution_count": 38
        }
      ]
    },
    {
      "cell_type": "code",
      "metadata": {
        "colab": {
          "base_uri": "https://localhost:8080/",
          "height": 175
        },
        "id": "ELf9mQ8II-kw",
        "outputId": "58da04fc-94d5-441d-df3d-30bec16284f4"
      },
      "source": [
        "diff_df_q.loc[diff_q_sorted[-3:].index].T.corr().style.bar(color=['#d65f5f', '#5fba7d'],axis=1,align='mid')"
      ],
      "execution_count": null,
      "outputs": [
        {
          "output_type": "execute_result",
          "data": {
            "text/html": [
              "<style  type=\"text/css\" >\n",
              "#T_491cceaa_4598_11ec_aa84_0242ac1c0002row0_col0,#T_491cceaa_4598_11ec_aa84_0242ac1c0002row1_col1{\n",
              "            width:  10em;\n",
              "             height:  80%;\n",
              "            background:  linear-gradient(90deg, transparent 48.6%, #5fba7d 48.6%, #5fba7d 100.0%, transparent 100.0%);\n",
              "        }#T_491cceaa_4598_11ec_aa84_0242ac1c0002row0_col1,#T_491cceaa_4598_11ec_aa84_0242ac1c0002row1_col0{\n",
              "            width:  10em;\n",
              "             height:  80%;\n",
              "            background:  linear-gradient(90deg,#d65f5f 48.6%, transparent 48.6%);\n",
              "        }#T_491cceaa_4598_11ec_aa84_0242ac1c0002row0_col2{\n",
              "            width:  10em;\n",
              "             height:  80%;\n",
              "            background:  linear-gradient(90deg, transparent 40.2%, #d65f5f 40.2%, #d65f5f 48.6%, transparent 48.6%);\n",
              "        }#T_491cceaa_4598_11ec_aa84_0242ac1c0002row1_col2{\n",
              "            width:  10em;\n",
              "             height:  80%;\n",
              "            background:  linear-gradient(90deg, transparent 48.6%, #5fba7d 48.6%, #5fba7d 49.4%, transparent 49.4%);\n",
              "        }#T_491cceaa_4598_11ec_aa84_0242ac1c0002row2_col0{\n",
              "            width:  10em;\n",
              "             height:  80%;\n",
              "            background:  linear-gradient(90deg,#d65f5f 14.1%, transparent 14.1%);\n",
              "        }#T_491cceaa_4598_11ec_aa84_0242ac1c0002row2_col1{\n",
              "            width:  10em;\n",
              "             height:  80%;\n",
              "            background:  linear-gradient(90deg, transparent 14.1%, #5fba7d 14.1%, #5fba7d 15.3%, transparent 15.3%);\n",
              "        }#T_491cceaa_4598_11ec_aa84_0242ac1c0002row2_col2{\n",
              "            width:  10em;\n",
              "             height:  80%;\n",
              "            background:  linear-gradient(90deg, transparent 14.1%, #5fba7d 14.1%, #5fba7d 100.0%, transparent 100.0%);\n",
              "        }</style><table id=\"T_491cceaa_4598_11ec_aa84_0242ac1c0002\" class=\"dataframe\"><thead>    <tr>        <th class=\"index_name level0\" >Parameters</th>        <th class=\"col_heading level0 col0\" >NM_ODNT0 (days)</th>        <th class=\"col_heading level0 col1\" >NM_ODXT30 (days)</th>        <th class=\"col_heading level0 col2\" >NM_ODXT25 (days)</th>    </tr>    <tr>        <th class=\"index_name level0\" >Parameters</th>        <th class=\"blank\" ></th>        <th class=\"blank\" ></th>        <th class=\"blank\" ></th>    </tr></thead><tbody>\n",
              "                <tr>\n",
              "                        <th id=\"T_491cceaa_4598_11ec_aa84_0242ac1c0002level0_row0\" class=\"row_heading level0 row0\" >NM_ODNT0 (days)</th>\n",
              "                        <td id=\"T_491cceaa_4598_11ec_aa84_0242ac1c0002row0_col0\" class=\"data row0 col0\" >1.000000</td>\n",
              "                        <td id=\"T_491cceaa_4598_11ec_aa84_0242ac1c0002row0_col1\" class=\"data row0 col1\" >-0.945879</td>\n",
              "                        <td id=\"T_491cceaa_4598_11ec_aa84_0242ac1c0002row0_col2\" class=\"data row0 col2\" >-0.163625</td>\n",
              "            </tr>\n",
              "            <tr>\n",
              "                        <th id=\"T_491cceaa_4598_11ec_aa84_0242ac1c0002level0_row1\" class=\"row_heading level0 row1\" >NM_ODXT30 (days)</th>\n",
              "                        <td id=\"T_491cceaa_4598_11ec_aa84_0242ac1c0002row1_col0\" class=\"data row1 col0\" >-0.945879</td>\n",
              "                        <td id=\"T_491cceaa_4598_11ec_aa84_0242ac1c0002row1_col1\" class=\"data row1 col1\" >1.000000</td>\n",
              "                        <td id=\"T_491cceaa_4598_11ec_aa84_0242ac1c0002row1_col2\" class=\"data row1 col2\" >0.014940</td>\n",
              "            </tr>\n",
              "            <tr>\n",
              "                        <th id=\"T_491cceaa_4598_11ec_aa84_0242ac1c0002level0_row2\" class=\"row_heading level0 row2\" >NM_ODXT25 (days)</th>\n",
              "                        <td id=\"T_491cceaa_4598_11ec_aa84_0242ac1c0002row2_col0\" class=\"data row2 col0\" >-0.163625</td>\n",
              "                        <td id=\"T_491cceaa_4598_11ec_aa84_0242ac1c0002row2_col1\" class=\"data row2 col1\" >0.014940</td>\n",
              "                        <td id=\"T_491cceaa_4598_11ec_aa84_0242ac1c0002row2_col2\" class=\"data row2 col2\" >1.000000</td>\n",
              "            </tr>\n",
              "    </tbody></table>"
            ],
            "text/plain": [
              "<pandas.io.formats.style.Styler at 0x7fdae9841bd0>"
            ]
          },
          "metadata": {},
          "execution_count": 40
        }
      ]
    },
    {
      "cell_type": "markdown",
      "metadata": {
        "id": "2_XttcdvwItw"
      },
      "source": [
        "## Create a common dataframe (df_temp_81_20) with only month-wise mean temperature and precipitation taken from both 81-10 vs 91-20 dataframes, now the month will be the row-index. \n",
        "\n"
      ]
    },
    {
      "cell_type": "code",
      "metadata": {
        "id": "r_T-jn61-gA4",
        "colab": {
          "base_uri": "https://localhost:8080/",
          "height": 426
        },
        "outputId": "77f3360f-492f-4266-92da-4fd76e0b7702"
      },
      "source": [
        "part_1 = dict_findel_df_ri['81_10'].T[['NM_T (°C)', 'NM_RR06_06 (mm)']] # Temperature and mean from 81_10\n",
        "part_2 = dict_findel_df_ri['91_20'].T[['NM_T (°C)', 'NM_RR06_06 (mm)']] # Temperature and mean from 91_20\n",
        "df_temp_81_20 = pd.merge(part_1, part_2, left_index=True, right_index=True, suffixes=('_81_10', '_91_20'))\n",
        "df_temp_81_20"
      ],
      "execution_count": null,
      "outputs": [
        {
          "output_type": "execute_result",
          "data": {
            "text/html": [
              "<div>\n",
              "<style scoped>\n",
              "    .dataframe tbody tr th:only-of-type {\n",
              "        vertical-align: middle;\n",
              "    }\n",
              "\n",
              "    .dataframe tbody tr th {\n",
              "        vertical-align: top;\n",
              "    }\n",
              "\n",
              "    .dataframe thead th {\n",
              "        text-align: right;\n",
              "    }\n",
              "</style>\n",
              "<table border=\"1\" class=\"dataframe\">\n",
              "  <thead>\n",
              "    <tr style=\"text-align: right;\">\n",
              "      <th>Parameters</th>\n",
              "      <th>NM_T (°C)_81_10</th>\n",
              "      <th>NM_RR06_06 (mm)_81_10</th>\n",
              "      <th>NM_T (°C)_91_20</th>\n",
              "      <th>NM_RR06_06 (mm)_91_20</th>\n",
              "    </tr>\n",
              "  </thead>\n",
              "  <tbody>\n",
              "    <tr>\n",
              "      <th>JAN</th>\n",
              "      <td>0.8</td>\n",
              "      <td>76.6</td>\n",
              "      <td>1.4</td>\n",
              "      <td>71.5</td>\n",
              "    </tr>\n",
              "    <tr>\n",
              "      <th>FEB</th>\n",
              "      <td>1.6</td>\n",
              "      <td>62.5</td>\n",
              "      <td>2.2</td>\n",
              "      <td>59.5</td>\n",
              "    </tr>\n",
              "    <tr>\n",
              "      <th>MAR</th>\n",
              "      <td>5.2</td>\n",
              "      <td>69.1</td>\n",
              "      <td>5.7</td>\n",
              "      <td>56.6</td>\n",
              "    </tr>\n",
              "    <tr>\n",
              "      <th>APR</th>\n",
              "      <td>8.7</td>\n",
              "      <td>58.2</td>\n",
              "      <td>9.6</td>\n",
              "      <td>49.4</td>\n",
              "    </tr>\n",
              "    <tr>\n",
              "      <th>MAY</th>\n",
              "      <td>13.0</td>\n",
              "      <td>78.5</td>\n",
              "      <td>13.5</td>\n",
              "      <td>73.3</td>\n",
              "    </tr>\n",
              "    <tr>\n",
              "      <th>JUN</th>\n",
              "      <td>15.9</td>\n",
              "      <td>79.9</td>\n",
              "      <td>16.7</td>\n",
              "      <td>73.0</td>\n",
              "    </tr>\n",
              "    <tr>\n",
              "      <th>JUL</th>\n",
              "      <td>18.2</td>\n",
              "      <td>71.0</td>\n",
              "      <td>18.7</td>\n",
              "      <td>72.1</td>\n",
              "    </tr>\n",
              "    <tr>\n",
              "      <th>AUG</th>\n",
              "      <td>17.7</td>\n",
              "      <td>75.4</td>\n",
              "      <td>18.4</td>\n",
              "      <td>71.9</td>\n",
              "    </tr>\n",
              "    <tr>\n",
              "      <th>SEP</th>\n",
              "      <td>13.9</td>\n",
              "      <td>76.3</td>\n",
              "      <td>14.3</td>\n",
              "      <td>66.6</td>\n",
              "    </tr>\n",
              "    <tr>\n",
              "      <th>OCT</th>\n",
              "      <td>9.5</td>\n",
              "      <td>86.8</td>\n",
              "      <td>9.9</td>\n",
              "      <td>76.2</td>\n",
              "    </tr>\n",
              "    <tr>\n",
              "      <th>NOV</th>\n",
              "      <td>4.7</td>\n",
              "      <td>76.0</td>\n",
              "      <td>5.2</td>\n",
              "      <td>71.7</td>\n",
              "    </tr>\n",
              "    <tr>\n",
              "      <th>DEC</th>\n",
              "      <td>1.8</td>\n",
              "      <td>86.7</td>\n",
              "      <td>2.3</td>\n",
              "      <td>89.5</td>\n",
              "    </tr>\n",
              "  </tbody>\n",
              "</table>\n",
              "</div>"
            ],
            "text/plain": [
              "Parameters  NM_T (°C)_81_10  ...  NM_RR06_06 (mm)_91_20\n",
              "JAN                     0.8  ...                   71.5\n",
              "FEB                     1.6  ...                   59.5\n",
              "MAR                     5.2  ...                   56.6\n",
              "APR                     8.7  ...                   49.4\n",
              "MAY                    13.0  ...                   73.3\n",
              "JUN                    15.9  ...                   73.0\n",
              "JUL                    18.2  ...                   72.1\n",
              "AUG                    17.7  ...                   71.9\n",
              "SEP                    13.9  ...                   66.6\n",
              "OCT                     9.5  ...                   76.2\n",
              "NOV                     4.7  ...                   71.7\n",
              "DEC                     1.8  ...                   89.5\n",
              "\n",
              "[12 rows x 4 columns]"
            ]
          },
          "metadata": {},
          "execution_count": 45
        }
      ]
    },
    {
      "cell_type": "markdown",
      "metadata": {
        "id": "dva-uyBO37GU"
      },
      "source": [
        "## Create a visualisation where the monthly mean temperature can be compared between 81-10 and 91-20"
      ]
    },
    {
      "cell_type": "code",
      "metadata": {
        "id": "urdUetXE5tSl",
        "colab": {
          "base_uri": "https://localhost:8080/",
          "height": 283
        },
        "outputId": "d2eb5333-bb1c-4994-d0b8-8fb3a17e91b5"
      },
      "source": [
        "df_temp_81_20[['NM_T (°C)_81_10','NM_T (°C)_91_20']].plot()"
      ],
      "execution_count": null,
      "outputs": [
        {
          "output_type": "execute_result",
          "data": {
            "text/plain": [
              "<matplotlib.axes._subplots.AxesSubplot at 0x7fdae95c9b10>"
            ]
          },
          "metadata": {},
          "execution_count": 44
        },
        {
          "output_type": "display_data",
          "data": {
            "image/png": "[encoded data removed]",
            "text/plain": [
              "<Figure size 432x288 with 1 Axes>"
            ]
          },
          "metadata": {
            "needs_background": "light"
          }
        }
      ]
    },
    {
      "cell_type": "code",
      "metadata": {
        "colab": {
          "base_uri": "https://localhost:8080/",
          "height": 296
        },
        "id": "N6MUqImXNaHp",
        "outputId": "526791e2-25c9-4638-dbcd-8a5098609ee1"
      },
      "source": [
        "import numpy as np\n",
        "\n",
        "pxd = np.log(df_temp_81_20[['NM_T (°C)_81_10','NM_T (°C)_91_20']]).plot()\n",
        "diff_df.T['NM_T (°C)'].plot.bar(x=pxd)\n",
        "pxd"
      ],
      "execution_count": null,
      "outputs": [
        {
          "output_type": "execute_result",
          "data": {
            "text/plain": [
              "<matplotlib.axes._subplots.AxesSubplot at 0x7fdae9020f10>"
            ]
          },
          "metadata": {},
          "execution_count": 47
        },
        {
          "output_type": "display_data",
          "data": {
            "image/png": "[encoded data removed]",
            "text/plain": [
              "<Figure size 432x288 with 1 Axes>"
            ]
          },
          "metadata": {
            "needs_background": "light"
          }
        }
      ]
    }
  ]
}